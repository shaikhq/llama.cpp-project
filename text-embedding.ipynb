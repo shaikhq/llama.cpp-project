{
 "cells": [
  {
   "cell_type": "markdown",
   "id": "c7440f71",
   "metadata": {},
   "source": [
    "# **Text Embeddings with GGUF Models Using Llama.cpp**\n",
    "\n",
    "This notebook demonstrates how to generate text embeddings using a locally stored GGUF model with the `llama-cpp-python` library. It uses IBM’s `granite-embedding-30m-english` model as an example, which can be replaced with any other Llama.cpp-compatible GGUF embedding model from Hugging Face. The notebook walks through loading the model, generating embeddings from input text, and previewing the results—all in a clean, beginner-friendly workflow.\n"
   ]
  },
  {
   "cell_type": "code",
   "execution_count": 1,
   "id": "fd635d5b",
   "metadata": {},
   "outputs": [],
   "source": [
    "from llama_cpp import Llama"
   ]
  },
  {
   "cell_type": "markdown",
   "id": "8bf7555f",
   "metadata": {},
   "source": [
    "## Load the Embedding Model from Local File\n",
    "- Example: IBM's `granite-embedding-30m-english` model in GGUF format\n",
    "- Pre-downloaded from Hugging Face and saved in the `models/` directory\n",
    "- You can swap in any GGUF text embedding model from Hugging Face\n",
    "- See this [guide to finding a compatible GGUF model](https://shaikhonai.substack.com/i/162148895/select-and-download-a-gguf-model)"
   ]
  },
  {
   "cell_type": "code",
   "execution_count": 7,
   "id": "45489f04",
   "metadata": {},
   "outputs": [],
   "source": [
    "embedding_model = Llama(model_path=\"models/granite-embedding-30m-english-Q6_K.gguf\", embedding=True, verbose=False)"
   ]
  },
  {
   "cell_type": "markdown",
   "id": "310b1f20",
   "metadata": {},
   "source": [
    "## Embedding a single text input"
   ]
  },
  {
   "cell_type": "code",
   "execution_count": null,
   "id": "9c7e26d3",
   "metadata": {},
   "outputs": [
    {
     "name": "stdout",
     "output_type": "stream",
     "text": [
      "Text: Paris is known for the Eiffel Tower.\n",
      "Embedding partial: [-1.3312551975250244, 1.8344782590866089, 1.8325539827346802, 0.19754132628440857, -0.3855469822883606, -2.0754051208496094, -0.12226647138595581, -2.131216287612915, 0.5409421920776367, -0.7406637072563171, 0.04207378625869751, -2.238772392272949] ...\n"
     ]
    }
   ],
   "source": [
    "input_text = \"Paris is known for the Eiffel Tower.\"\n",
    "embedding = embedding_model.create_embedding(input_text)\n",
    "vector = embedding['data'][0]['embedding']\n",
    "\n",
    "print(f\"Text: {input_text}\")\n",
    "print(\"Embedding (partial):\", vector[:12], \"...\")\n"
   ]
  },
  {
   "cell_type": "markdown",
   "id": "ebebdf34",
   "metadata": {},
   "source": [
    "## Embedding Multiple Text Inputs"
   ]
  },
  {
   "cell_type": "code",
   "execution_count": 16,
   "id": "f542db83",
   "metadata": {},
   "outputs": [
    {
     "name": "stdout",
     "output_type": "stream",
     "text": [
      "Text: Paris is known for the Eiffel Tower.\n",
      "Embedding (partial): [-1.3312551975250244, 1.8344782590866089, 1.8325539827346802, 0.19754132628440857, -0.3855469822883606, -2.0754051208496094, -0.12226647138595581, -2.131216287612915, 0.5409421920776367, -0.7406637072563171, 0.04207378625869751, -2.238772392272949] ...\n",
      "\n",
      "Text: Machine learning helps computers learn from data.\n",
      "Embedding (partial): [-0.6378023624420166, 0.6769125461578369, 1.4247599840164185, 2.2569093704223633, -0.4022442102432251, 0.6476706266403198, 0.6126803159713745, -0.08391742408275604, 1.828855276107788, 0.36864525079727173, 1.2115947008132935, -0.962933361530304] ...\n",
      "\n"
     ]
    }
   ],
   "source": [
    "input_texts = [\n",
    "    \"Paris is known for the Eiffel Tower.\",\n",
    "    \"Machine learning helps computers learn from data.\"\n",
    "]\n",
    "\n",
    "embeddings = embedding_model.create_embedding(input_texts)\n",
    "\n",
    "for text, item in zip(input_texts, embeddings[\"data\"]):\n",
    "    print(f\"Text: {text}\")\n",
    "    print(\"Embedding (partial):\", item[\"embedding\"][:12], \"...\\n\")"
   ]
  }
 ],
 "metadata": {
  "kernelspec": {
   "display_name": ".venv",
   "language": "python",
   "name": "python3"
  },
  "language_info": {
   "codemirror_mode": {
    "name": "ipython",
    "version": 3
   },
   "file_extension": ".py",
   "mimetype": "text/x-python",
   "name": "python",
   "nbconvert_exporter": "python",
   "pygments_lexer": "ipython3",
   "version": "3.12.9"
  }
 },
 "nbformat": 4,
 "nbformat_minor": 5
}
